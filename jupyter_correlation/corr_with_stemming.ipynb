{
 "cells": [
  {
   "cell_type": "code",
   "execution_count": 48,
   "id": "345d9ff5",
   "metadata": {},
   "outputs": [],
   "source": [
    "import pandas as pd \n",
    "import numpy as np \n",
    "import seaborn as sns\n",
    "import matplotlib.pyplot as plt\n",
    "from nltk.corpus import stopwords\n",
    "from nltk.stem.porter import PorterStemmer\n",
    "from sklearn.feature_extraction.text import TfidfVectorizer\n",
    "from sklearn.linear_model import LogisticRegression\n",
    "from sklearn.metrics import accuracy_score\n",
    "import re\n",
    "import joblib\n",
    "import pickle"
   ]
  },
  {
   "cell_type": "code",
   "execution_count": 18,
   "id": "d608b6f1",
   "metadata": {},
   "outputs": [],
   "source": [
    "from textblob import TextBlob"
   ]
  },
  {
   "cell_type": "code",
   "execution_count": 20,
   "id": "20ea0520",
   "metadata": {},
   "outputs": [
    {
     "data": {
      "text/plain": [
       "Sentiment(polarity=0.0, subjectivity=0.0)"
      ]
     },
     "execution_count": 20,
     "metadata": {},
     "output_type": "execute_result"
    }
   ],
   "source": [
    "analysis = TextBlob(det_text).sentiment\n",
    "analysis"
   ]
  },
  {
   "cell_type": "code",
   "execution_count": 23,
   "id": "354d8f9f",
   "metadata": {},
   "outputs": [],
   "source": [
    "news_dataset['polarity'] = news_dataset['news'].apply(lambda x:TextBlob(x).polarity)"
   ]
  },
  {
   "cell_type": "code",
   "execution_count": 24,
   "id": "f41170b0",
   "metadata": {},
   "outputs": [],
   "source": [
    "news_dataset['subjectivity'] = news_dataset['news'].apply(lambda x:TextBlob(x).subjectivity)"
   ]
  },
  {
   "cell_type": "code",
   "execution_count": 47,
   "id": "06d6f514",
   "metadata": {},
   "outputs": [
    {
     "name": "stdout",
     "output_type": "stream",
     "text": [
      "Average subjectivity\n",
      "0.40376245916079245 0.34235272537763545\n"
     ]
    }
   ],
   "source": [
    "cnt, n_cnt = 0, 0\n",
    "cnt2, n_cnt2 = 0, 0\n",
    "for i in range(len(news_dataset)):\n",
    "    if news_dataset.iloc[i][3] == 0:\n",
    "        cnt += news_dataset.iloc[i][7]\n",
    "        n_cnt += 1\n",
    "    else:\n",
    "        cnt2 += news_dataset.iloc[i][7]\n",
    "        n_cnt2 += 1\n",
    "\n",
    "print(\"Average subjectivity\")\n",
    "print(cnt / n_cnt, cnt2 / n_cnt2)"
   ]
  },
  {
   "cell_type": "code",
   "execution_count": 48,
   "id": "61bf1978",
   "metadata": {},
   "outputs": [
    {
     "name": "stdout",
     "output_type": "stream",
     "text": [
      "Average polarity\n",
      "0.07342775732063947 0.06921014987882712\n"
     ]
    }
   ],
   "source": [
    "cnt, n_cnt = 0, 0\n",
    "cnt2, n_cnt2 = 0, 0\n",
    "for i in range(len(news_dataset)):\n",
    "    if news_dataset.iloc[i][3] == 0:\n",
    "        cnt += news_dataset.iloc[i][6]\n",
    "        n_cnt += 1\n",
    "    else:\n",
    "        cnt2 += news_dataset.iloc[i][6]\n",
    "        n_cnt2 += 1\n",
    "\n",
    "print(\"Average polarity\")\n",
    "print(cnt / n_cnt, cnt2 / n_cnt2)"
   ]
  },
  {
   "cell_type": "code",
   "execution_count": 26,
   "id": "39e77ccf",
   "metadata": {
    "scrolled": true
   },
   "outputs": [
    {
     "data": {
      "text/html": [
       "<div>\n",
       "<style scoped>\n",
       "    .dataframe tbody tr th:only-of-type {\n",
       "        vertical-align: middle;\n",
       "    }\n",
       "\n",
       "    .dataframe tbody tr th {\n",
       "        vertical-align: top;\n",
       "    }\n",
       "\n",
       "    .dataframe thead th {\n",
       "        text-align: right;\n",
       "    }\n",
       "</style>\n",
       "<table border=\"1\" class=\"dataframe\">\n",
       "  <thead>\n",
       "    <tr style=\"text-align: right;\">\n",
       "      <th></th>\n",
       "      <th>subject</th>\n",
       "      <th>date</th>\n",
       "      <th>news</th>\n",
       "      <th>output</th>\n",
       "      <th>number_of_characters</th>\n",
       "      <th>number_of_words</th>\n",
       "      <th>polarity</th>\n",
       "      <th>subjectivity</th>\n",
       "    </tr>\n",
       "  </thead>\n",
       "  <tbody>\n",
       "    <tr>\n",
       "      <th>0</th>\n",
       "      <td>News</td>\n",
       "      <td>2017-12-31</td>\n",
       "      <td>donald trump send embarrass new year eve messa...</td>\n",
       "      <td>0</td>\n",
       "      <td>1732</td>\n",
       "      <td>274</td>\n",
       "      <td>0.015869</td>\n",
       "      <td>0.513278</td>\n",
       "    </tr>\n",
       "    <tr>\n",
       "      <th>1</th>\n",
       "      <td>News</td>\n",
       "      <td>2017-12-31</td>\n",
       "      <td>drunk brag trump staffer start russian collus ...</td>\n",
       "      <td>0</td>\n",
       "      <td>1269</td>\n",
       "      <td>191</td>\n",
       "      <td>0.025174</td>\n",
       "      <td>0.288292</td>\n",
       "    </tr>\n",
       "    <tr>\n",
       "      <th>2</th>\n",
       "      <td>News</td>\n",
       "      <td>2017-12-30</td>\n",
       "      <td>sheriff david clark becom internet joke threat...</td>\n",
       "      <td>0</td>\n",
       "      <td>2240</td>\n",
       "      <td>357</td>\n",
       "      <td>-0.054137</td>\n",
       "      <td>0.486140</td>\n",
       "    </tr>\n",
       "    <tr>\n",
       "      <th>3</th>\n",
       "      <td>News</td>\n",
       "      <td>2017-12-29</td>\n",
       "      <td>trump obsess even obama name code websit imag ...</td>\n",
       "      <td>0</td>\n",
       "      <td>1743</td>\n",
       "      <td>286</td>\n",
       "      <td>-0.008523</td>\n",
       "      <td>0.341477</td>\n",
       "    </tr>\n",
       "    <tr>\n",
       "      <th>4</th>\n",
       "      <td>News</td>\n",
       "      <td>2017-12-25</td>\n",
       "      <td>pope franci call donald trump christma speechp...</td>\n",
       "      <td>0</td>\n",
       "      <td>1322</td>\n",
       "      <td>218</td>\n",
       "      <td>-0.034259</td>\n",
       "      <td>0.536111</td>\n",
       "    </tr>\n",
       "    <tr>\n",
       "      <th>...</th>\n",
       "      <td>...</td>\n",
       "      <td>...</td>\n",
       "      <td>...</td>\n",
       "      <td>...</td>\n",
       "      <td>...</td>\n",
       "      <td>...</td>\n",
       "      <td>...</td>\n",
       "      <td>...</td>\n",
       "    </tr>\n",
       "    <tr>\n",
       "      <th>44883</th>\n",
       "      <td>worldnews</td>\n",
       "      <td>2017-08-22</td>\n",
       "      <td>fulli commit nato back new u approach afghanis...</td>\n",
       "      <td>1</td>\n",
       "      <td>1778</td>\n",
       "      <td>269</td>\n",
       "      <td>0.084141</td>\n",
       "      <td>0.210657</td>\n",
       "    </tr>\n",
       "    <tr>\n",
       "      <th>44884</th>\n",
       "      <td>worldnews</td>\n",
       "      <td>2017-08-22</td>\n",
       "      <td>lexisnexi withdrew two product chines marketlo...</td>\n",
       "      <td>1</td>\n",
       "      <td>558</td>\n",
       "      <td>80</td>\n",
       "      <td>0.160000</td>\n",
       "      <td>0.340000</td>\n",
       "    </tr>\n",
       "    <tr>\n",
       "      <th>44885</th>\n",
       "      <td>worldnews</td>\n",
       "      <td>2017-08-22</td>\n",
       "      <td>minsk cultur hub becom authoritiesminsk reuter...</td>\n",
       "      <td>1</td>\n",
       "      <td>1195</td>\n",
       "      <td>178</td>\n",
       "      <td>0.103068</td>\n",
       "      <td>0.498977</td>\n",
       "    </tr>\n",
       "    <tr>\n",
       "      <th>44886</th>\n",
       "      <td>worldnews</td>\n",
       "      <td>2017-08-22</td>\n",
       "      <td>vatican upbeat possibl pope franci visit russi...</td>\n",
       "      <td>1</td>\n",
       "      <td>820</td>\n",
       "      <td>123</td>\n",
       "      <td>-0.021849</td>\n",
       "      <td>0.231933</td>\n",
       "    </tr>\n",
       "    <tr>\n",
       "      <th>44887</th>\n",
       "      <td>worldnews</td>\n",
       "      <td>2017-08-22</td>\n",
       "      <td>indonesia buy billion worth russian jetsjakart...</td>\n",
       "      <td>1</td>\n",
       "      <td>959</td>\n",
       "      <td>141</td>\n",
       "      <td>0.057284</td>\n",
       "      <td>0.184324</td>\n",
       "    </tr>\n",
       "  </tbody>\n",
       "</table>\n",
       "<p>44888 rows × 8 columns</p>\n",
       "</div>"
      ],
      "text/plain": [
       "         subject        date  \\\n",
       "0           News  2017-12-31   \n",
       "1           News  2017-12-31   \n",
       "2           News  2017-12-30   \n",
       "3           News  2017-12-29   \n",
       "4           News  2017-12-25   \n",
       "...          ...         ...   \n",
       "44883  worldnews  2017-08-22   \n",
       "44884  worldnews  2017-08-22   \n",
       "44885  worldnews  2017-08-22   \n",
       "44886  worldnews  2017-08-22   \n",
       "44887  worldnews  2017-08-22   \n",
       "\n",
       "                                                    news  output  \\\n",
       "0      donald trump send embarrass new year eve messa...       0   \n",
       "1      drunk brag trump staffer start russian collus ...       0   \n",
       "2      sheriff david clark becom internet joke threat...       0   \n",
       "3      trump obsess even obama name code websit imag ...       0   \n",
       "4      pope franci call donald trump christma speechp...       0   \n",
       "...                                                  ...     ...   \n",
       "44883  fulli commit nato back new u approach afghanis...       1   \n",
       "44884  lexisnexi withdrew two product chines marketlo...       1   \n",
       "44885  minsk cultur hub becom authoritiesminsk reuter...       1   \n",
       "44886  vatican upbeat possibl pope franci visit russi...       1   \n",
       "44887  indonesia buy billion worth russian jetsjakart...       1   \n",
       "\n",
       "       number_of_characters  number_of_words  polarity  subjectivity  \n",
       "0                      1732              274  0.015869      0.513278  \n",
       "1                      1269              191  0.025174      0.288292  \n",
       "2                      2240              357 -0.054137      0.486140  \n",
       "3                      1743              286 -0.008523      0.341477  \n",
       "4                      1322              218 -0.034259      0.536111  \n",
       "...                     ...              ...       ...           ...  \n",
       "44883                  1778              269  0.084141      0.210657  \n",
       "44884                   558               80  0.160000      0.340000  \n",
       "44885                  1195              178  0.103068      0.498977  \n",
       "44886                   820              123 -0.021849      0.231933  \n",
       "44887                   959              141  0.057284      0.184324  \n",
       "\n",
       "[44888 rows x 8 columns]"
      ]
     },
     "execution_count": 26,
     "metadata": {},
     "output_type": "execute_result"
    }
   ],
   "source": [
    "news_dataset"
   ]
  },
  {
   "cell_type": "code",
   "execution_count": 27,
   "id": "abb9e4db",
   "metadata": {},
   "outputs": [],
   "source": [
    "news_dataset.to_csv('polarity_subjectivity.csv', index=False)"
   ]
  },
  {
   "cell_type": "code",
   "execution_count": 28,
   "id": "77a4f09f",
   "metadata": {},
   "outputs": [
    {
     "data": {
      "text/plain": [
       "-0.01518946843002476"
      ]
     },
     "execution_count": 28,
     "metadata": {},
     "output_type": "execute_result"
    }
   ],
   "source": [
    "news_dataset['output']. corr(news_dataset['polarity'])"
   ]
  },
  {
   "cell_type": "code",
   "execution_count": 29,
   "id": "8e5ef6bc",
   "metadata": {},
   "outputs": [
    {
     "data": {
      "text/plain": [
       "-0.21598576536784483"
      ]
     },
     "execution_count": 29,
     "metadata": {},
     "output_type": "execute_result"
    }
   ],
   "source": [
    "news_dataset['output']. corr(news_dataset['subjectivity'])"
   ]
  },
  {
   "cell_type": "code",
   "execution_count": 34,
   "id": "2dd659e6",
   "metadata": {},
   "outputs": [],
   "source": [
    "from scipy. stats import pearsonr"
   ]
  },
  {
   "cell_type": "code",
   "execution_count": 35,
   "id": "ffb1e837",
   "metadata": {},
   "outputs": [
    {
     "data": {
      "text/plain": [
       "(-0.2159857653678565, 0.0)"
      ]
     },
     "execution_count": 35,
     "metadata": {},
     "output_type": "execute_result"
    }
   ],
   "source": [
    "pearsonr(news_dataset['output'], news_dataset['subjectivity'])"
   ]
  },
  {
   "cell_type": "code",
   "execution_count": 36,
   "id": "d7815afd",
   "metadata": {},
   "outputs": [
    {
     "data": {
      "text/plain": [
       "(-0.015189468430025672, 0.00128972403666695)"
      ]
     },
     "execution_count": 36,
     "metadata": {},
     "output_type": "execute_result"
    }
   ],
   "source": [
    "pearsonr(news_dataset['output'], news_dataset['polarity'])"
   ]
  },
  {
   "cell_type": "code",
   "execution_count": 38,
   "id": "2be57140",
   "metadata": {},
   "outputs": [
    {
     "data": {
      "text/plain": [
       "<AxesSubplot:>"
      ]
     },
     "execution_count": 38,
     "metadata": {},
     "output_type": "execute_result"
    },
    {
     "data": {
      "image/png": "[encoded data removed]",
      "text/plain": [
       "<Figure size 432x288 with 2 Axes>"
      ]
     },
     "metadata": {
      "needs_background": "light"
     },
     "output_type": "display_data"
    }
   ],
   "source": [
    "sns.heatmap(news_dataset.corr())"
   ]
  },
  {
   "cell_type": "code",
   "execution_count": 49,
   "id": "b4aba6b8",
   "metadata": {},
   "outputs": [
    {
     "data": {
      "image/png": "[encoded data removed]",
      "text/plain": [
       "<Figure size 432x288 with 1 Axes>"
      ]
     },
     "metadata": {
      "needs_background": "light"
     },
     "output_type": "display_data"
    }
   ],
   "source": [
    "plt.plot(news_dataset['output'], news_dataset['subjectivity'], 'o', alpha=0.02, markersize=1)\n",
    "\n",
    "plt.xlabel('output')\n",
    "plt.ylabel('subjectivity')\n",
    "plt.title('Scatter plot of output versus subjectivity');"
   ]
  },
  {
   "cell_type": "code",
   "execution_count": null,
   "id": "c89942e9",
   "metadata": {},
   "outputs": [],
   "source": []
  }
 ],
 "metadata": {
  "kernelspec": {
   "display_name": "Python 3 (ipykernel)",
   "language": "python",
   "name": "python3"
  },
  "language_info": {
   "codemirror_mode": {
    "name": "ipython",
    "version": 3
   },
   "file_extension": ".py",
   "mimetype": "text/x-python",
   "name": "python",
   "nbconvert_exporter": "python",
   "pygments_lexer": "ipython3",
   "version": "3.10.2"
  }
 },
 "nbformat": 4,
 "nbformat_minor": 5
}
